{
 "cells": [
  {
   "cell_type": "markdown",
   "metadata": {},
   "source": [
    "---\n",
    "layout: post\n",
    "comments: true\n",
    "hide: True\n",
    "title: Basics of HTML Guide\n",
    "description: An introduction to basic HTML, and resources to learn more.\n",
    "type: hacks\n",
    "permalink: /basics/html\n",
    "---"
   ]
  },
  {
   "cell_type": "raw",
   "metadata": {},
   "source": [
    "{% include nav_basics.html %}\n"
   ]
  },
  {
   "cell_type": "markdown",
   "metadata": {},
   "source": [
    "# HTML Hacks\n",
    "- Below is a wireframe for an HTML element you will create. A wireframe is a rough visual representation of HTML elements on a page and isn't necessarily to scale or have the exact styling that the final HTML will have. Using the syntax above, try to create an HTML snippet that corresponds to the below wireframe.\n",
    "- The \"a tags\" can contain any links that you want\n",
    "\n",
    "![wireframe for html hacks]({{ site.baseurl }}/images/wireframe.png)"
   ]
  },
  {
   "cell_type": "code",
   "execution_count": 44,
   "metadata": {},
   "outputs": [
    {
     "data": {
      "text/html": [
       "<p><h3>Do you want to learn more about Quizbowl?</h3></p>\n",
       "<div>\n",
       "    <button><a href=\"https://www.naqt.com/about/quiz-bowl.html\">Click here to learn more!</a></button>\n",
       "<!-- note that button text is glaringly yellow because of theme settings. to change this would mean messing up a lot of preexisting theme code, so the color stays-->\n",
       "</div>\n",
       "<br>\n",
       "<hr>\n",
       "<br>\n"
      ],
      "text/plain": [
       "<IPython.core.display.HTML object>"
      ]
     },
     "metadata": {},
     "output_type": "display_data"
    }
   ],
   "source": [
    "%%html\n",
    "<p><h3>Do you want to learn more about Quizbowl?</h3></p>\n",
    "<div>\n",
    "    <button><a href=\"https://www.naqt.com/about/quiz-bowl.html\">Click here to learn more!</a></button>\n",
    "<!-- note that button text is glaringly yellow because of theme settings. to change this would mean messing up a lot of preexisting theme code, so the color stays-->\n",
    "</div>\n",
    "<br>\n",
    "<hr>\n",
    "<br>"
   ]
  },
  {
   "cell_type": "code",
   "execution_count": 45,
   "metadata": {},
   "outputs": [
    {
     "data": {
      "text/html": [
       "<a href=\"https://www.wikihow.com/Change-the-Button-Color-in-HTML\">WikiHow To Change Button Color in HTML</a><br>\n",
       "<a href=\"https://stackoverflow.com/questions/12471132/how-to-set-text-color-in-submit-button\">StackOverflow Button Text Color Change</a><br>\n",
       "\n",
       "<div>\n",
       "<p>Above are some links to help you get started on your JS Basics Test journey!</p>\n",
       "</div>\n"
      ],
      "text/plain": [
       "<IPython.core.display.HTML object>"
      ]
     },
     "metadata": {},
     "output_type": "display_data"
    }
   ],
   "source": [
    "%%html\n",
    "<a href=\"https://www.wikihow.com/Change-the-Button-Color-in-HTML\">WikiHow To Change Button Color in HTML</a><br>\n",
    "<a href=\"https://stackoverflow.com/questions/12471132/how-to-set-text-color-in-submit-button\">StackOverflow Button Text Color Change</a><br>\n",
    "\n",
    "<div>\n",
    "<p>Above are some links to help you get started on your JS Basics Test journey!</p>\n",
    "</div>"
   ]
  }
 ],
 "metadata": {
  "kernelspec": {
   "display_name": "Python 3",
   "language": "python",
   "name": "python3"
  },
  "language_info": {
   "codemirror_mode": {
    "name": "ipython",
    "version": 3
   },
   "file_extension": ".py",
   "mimetype": "text/x-python",
   "name": "python",
   "nbconvert_exporter": "python",
   "pygments_lexer": "ipython3",
   "version": "3.11.5"
  },
  "orig_nbformat": 4
 },
 "nbformat": 4,
 "nbformat_minor": 2
}
