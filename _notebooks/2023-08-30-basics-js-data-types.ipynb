{
 "cells": [
  {
   "cell_type": "markdown",
   "metadata": {},
   "source": [
    "---\n",
    "title: Javascript Data Types/Lists\n",
    "hide: True\n",
    "description: A Tech Talk on javascript data types and how to use with lists\n",
    "type: hacks\n",
    "permalink: /basics/datatypes\n",
    "---"
   ]
  },
  {
   "cell_type": "raw",
   "metadata": {},
   "source": [
    "{% include nav_basics.html %}\n"
   ]
  },
  {
   "cell_type": "markdown",
   "metadata": {},
   "source": [
    "# Hacks\n",
    "Create a JavaScript snippet below with the following requirements:\n",
    "- Create an object representing yourself as a person. The object should have keys for your name, age, current classes, interests, and two more of your choosing\n",
    "- Your object must contain keys whose values are arrays. The arrays can be arrays of strings, numbers, or even other objects if you would like\n",
    "- Print the entire object with console.log after declaring it\n",
    "- Manipulate the arrays within the object and print the entire object with console.log as well as the specific changed key afterwards\n",
    "- Perform mathematical operations on fields in your object such as +, -, /, % etc. and print the results with console.log along with a message contextualizing them\n",
    "- Use typeof to determine the types of at least 3 fields in your object"
   ]
  },
  {
   "cell_type": "code",
   "execution_count": 15,
   "metadata": {},
   "outputs": [
    {
     "data": {
      "application/javascript": "\nvar person = {\n    name: \"Maryam\",\n    age: 16,\n    ghid: \"maryamabdul-aziz\",\n    classes: [\"US History\", \"AP Physics: Mechanics\", \"AP Calc BC\", \"Computer Science\", \"AP English Language\"],\n    interests: [\"reading\", \"writing\", \"English\", \"history\"],\n    favorites: [\"color: blue\", \"flower: sunflower\", \"book: The Outsiders\"],\n\n};\n\nconsole.log(person)\n\nconsole.log(\" \")\n\nconsole.log(\"Modifying object...\")\nperson.classes = \"none\"\nperson.interests = \"no hobbies found\"\n\nconsole.log(\"Modification complete.\")\nconsole.log(person)\n",
      "text/plain": [
       "<IPython.core.display.Javascript object>"
      ]
     },
     "metadata": {},
     "output_type": "display_data"
    }
   ],
   "source": [
    "%%js\n",
    "\n",
    "var person = {\n",
    "    name: \"Maryam\",\n",
    "    age: 16,\n",
    "    ghid: \"maryamabdul-aziz\",\n",
    "    classes: [\"US History\", \"AP Physics: Mechanics\", \"AP Calc BC\", \"Computer Science\", \"AP English Language\"],\n",
    "    interests: [\"reading\", \"writing\", \"English\", \"history\"],\n",
    "    favorites: [\"color: blue\", \"flower: sunflower\", \"book: The Outsiders\"],\n",
    "\n",
    "};\n",
    "\n",
    "console.log(person)\n",
    "\n",
    "console.log(\" \")\n",
    "\n",
    "console.log(\"Modifying object...\")\n",
    "person.classes = \"none\"\n",
    "person.interests = \"no hobbies found\"\n",
    "\n",
    "console.log(\"Modification complete.\")\n",
    "console.log(person)"
   ]
  },
  {
   "cell_type": "code",
   "execution_count": 16,
   "metadata": {},
   "outputs": [
    {
     "data": {
      "application/javascript": "\nvar num1 = 12\nvar num2 = 9\n\nconsole.log(\"num1 = \" + num1)\nconsole.log(\"num2 = \" + num2)\nconsole.log(\" \")\n\nconsole.log(\"Adding num1 and num2\")\nconsole.log(num1 + num2)\nconsole.log(\" \")\n\nconsole.log(\"Subtracting num1 and num2\")\nconsole.log(num1 - num2)\nconsole.log(\" \")\n\nconsole.log(\"Dividing num1 and num2\")\nconsole.log(num1 / num2)\nconsole.log(\" \")\n\nconsole.log(\"Modulus num1 % num2\")\nconsole.log(num1 % num2)\n\n<!-- Note that I recognize that this is wordy and long code. -->\n<!-- I plugged it into ChatGPT for a solution and found one that worked quite well using -->\n<!-- a for loop, but I decided to keep my code as-is to reflect my current skill level -->\n<!-- although when I read ChatGPTs code, it made perfect sense to me -->\n",
      "text/plain": [
       "<IPython.core.display.Javascript object>"
      ]
     },
     "metadata": {},
     "output_type": "display_data"
    }
   ],
   "source": [
    "%%js\n",
    "\n",
    "var num1 = 12\n",
    "var num2 = 9\n",
    "\n",
    "console.log(\"num1 = \" + num1)\n",
    "console.log(\"num2 = \" + num2)\n",
    "console.log(\" \")\n",
    "\n",
    "console.log(\"Adding num1 and num2\")\n",
    "console.log(num1 + num2)\n",
    "console.log(\" \")\n",
    "\n",
    "console.log(\"Subtracting num1 and num2\")\n",
    "console.log(num1 - num2)\n",
    "console.log(\" \")\n",
    "\n",
    "console.log(\"Dividing num1 and num2\")\n",
    "console.log(num1 / num2)\n",
    "console.log(\" \")\n",
    "\n",
    "console.log(\"Modulus num1 % num2\")\n",
    "console.log(num1 % num2)\n",
    "\n",
    "<!-- Note that I recognize that this is wordy and long code. -->\n",
    "<!-- I plugged it into ChatGPT for a solution and found one that worked quite well using -->\n",
    "<!-- a for loop, but I decided to keep my code as-is to reflect my current skill level -->\n",
    "<!-- although when I read ChatGPTs code, it made perfect sense to me -->\n"
   ]
  },
  {
   "cell_type": "code",
   "execution_count": 17,
   "metadata": {},
   "outputs": [
    {
     "data": {
      "application/javascript": "var listofVariables = [\n    \"First variable\",\n    15,\n    [\"0th item\", 14, \"2nd item\"],\n    {\n        variable: \"fourth\",\n        grade: 5/5,\n        percentage: \"100%\"\n    },\n    ];\n\nfor (var i = 0; i < listofVariables.length; i++){\n    console.log(listofVariables[i])\n    switch(i) {\n        case(0):\n            console.log(listofVariables[0] + \" is a \" + typeof listofVariables[0]);\n            console.log(\" \")\n            break;\n        case(1):\n            console.log(listofVariables[1] + \" is a \" + typeof listofVariables[1]);\n            console.log(\" \")\n            break;\n        case(2):\n            console.log(listofVariables[2] + \" is a \" + typeof listofVariables[2]);\n            console.log(\" \")\n            break;\n        case(3):\n            console.log(listofVariables[3] + \" is a \" + typeof listofVariables[3]);\n            console.log(\" \")\n            break;\n    }\n}\n",
      "text/plain": [
       "<IPython.core.display.Javascript object>"
      ]
     },
     "metadata": {},
     "output_type": "display_data"
    }
   ],
   "source": [
    "%%js\n",
    "var listofVariables = [\n",
    "    \"First variable\",\n",
    "    15,\n",
    "    [\"0th item\", 14, \"2nd item\"],\n",
    "    {\n",
    "        variable: \"fourth\",\n",
    "        grade: 5/5,\n",
    "        percentage: \"100%\"\n",
    "    },\n",
    "    ];\n",
    "\n",
    "for (var i = 0; i < listofVariables.length; i++){\n",
    "    console.log(listofVariables[i])\n",
    "    switch(i) {\n",
    "        case(0):\n",
    "            console.log(listofVariables[0] + \" is a \" + typeof listofVariables[0]);\n",
    "            console.log(\" \")\n",
    "            break;\n",
    "        case(1):\n",
    "            console.log(listofVariables[1] + \" is a \" + typeof listofVariables[1]);\n",
    "            console.log(\" \")\n",
    "            break;\n",
    "        case(2):\n",
    "            console.log(listofVariables[2] + \" is a \" + typeof listofVariables[2]);\n",
    "            console.log(\" \")\n",
    "            break;\n",
    "        case(3):\n",
    "            console.log(listofVariables[3] + \" is a \" + typeof listofVariables[3]);\n",
    "            console.log(\" \")\n",
    "            break;\n",
    "    }\n",
    "}"
   ]
  }
 ],
 "metadata": {
  "kernelspec": {
   "display_name": "Python 3 (ipykernel)",
   "language": "python",
   "name": "python3"
  },
  "language_info": {
   "codemirror_mode": {
    "name": "ipython",
    "version": 3
   },
   "file_extension": ".py",
   "mimetype": "text/x-python",
   "name": "python",
   "nbconvert_exporter": "python",
   "pygments_lexer": "ipython3",
   "version": "3.11.5"
  }
 },
 "nbformat": 4,
 "nbformat_minor": 4
}
