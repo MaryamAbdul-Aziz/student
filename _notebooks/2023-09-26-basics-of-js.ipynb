{
 "cells": [
  {
   "cell_type": "markdown",
   "metadata": {},
   "source": [
    "---\n",
    "title: Basics of Javascript\n",
    "comments: true\n",
    "hide: True\n",
    "description: A Tech Talk on how to use javascript\n",
    "type: hacks\n",
    "permalink: /basics/javascript\n",
    "author: Rohan Juneja\n",
    "---"
   ]
  },
  {
   "cell_type": "raw",
   "metadata": {},
   "source": [
    "{% include nav_basics.html %}\n"
   ]
  },
  {
   "cell_type": "markdown",
   "metadata": {},
   "source": [
    "# Hacks\n",
    "- Write a JavaScript program that compares two variables, a and b. Log \"a is greater\" if a is greater than b, \"b is greater\" if b is greater than a, and \"both are equal\" if a and b are equal. Make sure to use if statements and console.log"
   ]
  },
  {
   "cell_type": "markdown",
   "metadata": {},
   "source": [
    "### Pre-defined values of a and b"
   ]
  },
  {
   "cell_type": "code",
   "execution_count": 24,
   "metadata": {},
   "outputs": [
    {
     "data": {
      "application/javascript": "console.log(\"Comparing a and b\")\n\nvar a = 68\nvar b = 37\nconsole.log(\"a = \" + a)\nconsole.log(\"b = \" + b)\n\nif (a > b) {\n    console.log(\"a is greater\")\n} else if (b > a) {\n    console.log(\"b is greater\")\n} else {\n    console.log(\"a and b are the same\")\n}\n",
      "text/plain": [
       "<IPython.core.display.Javascript object>"
      ]
     },
     "metadata": {},
     "output_type": "display_data"
    }
   ],
   "source": [
    "%%js\n",
    "console.log(\"Comparing a and b\")\n",
    "\n",
    "var a = 68\n",
    "var b = 37\n",
    "console.log(\"a = \" + a)\n",
    "console.log(\"b = \" + b)\n",
    "\n",
    "if (a > b) {\n",
    "    console.log(\"a is greater\")\n",
    "} else if (b > a) {\n",
    "    console.log(\"b is greater\")\n",
    "} else {\n",
    "    console.log(\"a and b are the same\")\n",
    "}"
   ]
  },
  {
   "cell_type": "markdown",
   "metadata": {},
   "source": [
    "### User-inputted values of a and b"
   ]
  },
  {
   "cell_type": "code",
   "execution_count": 25,
   "metadata": {},
   "outputs": [
    {
     "data": {
      "application/javascript": "console.log(\"Comparing a and b\")\n\nvar a = prompt(\"Enter a number:\")\nvar b = prompt(\"Enter another number:\")\na = parseFloat(a)\nb = parseFloat(b)\n\nconsole.log(\"a = \" + a)\nconsole.log(\"b = \" + b)\n\nif (a > b) {\n    console.log(\"a is greater\")\n} else if (b > a) {\n    console.log(\"b is greater\")\n} else {\n    console.log(\"a and b are the same\")\n}\n",
      "text/plain": [
       "<IPython.core.display.Javascript object>"
      ]
     },
     "metadata": {},
     "output_type": "display_data"
    }
   ],
   "source": [
    "%%js\n",
    "console.log(\"Comparing a and b\")\n",
    "\n",
    "var a = prompt(\"Enter a number:\")\n",
    "var b = prompt(\"Enter another number:\")\n",
    "a = parseFloat(a)\n",
    "b = parseFloat(b)\n",
    "\n",
    "console.log(\"a = \" + a)\n",
    "console.log(\"b = \" + b)\n",
    "\n",
    "if (a > b) {\n",
    "    console.log(\"a is greater\")\n",
    "} else if (b > a) {\n",
    "    console.log(\"b is greater\")\n",
    "} else {\n",
    "    console.log(\"a and b are the same\")\n",
    "}"
   ]
  }
 ],
 "metadata": {
  "kernelspec": {
   "display_name": "Python 3",
   "language": "python",
   "name": "python3"
  },
  "language_info": {
   "codemirror_mode": {
    "name": "ipython",
    "version": 3
   },
   "file_extension": ".py",
   "mimetype": "text/x-python",
   "name": "python",
   "nbconvert_exporter": "python",
   "pygments_lexer": "ipython3",
   "version": "3.11.5"
  },
  "orig_nbformat": 4
 },
 "nbformat": 4,
 "nbformat_minor": 2
}
