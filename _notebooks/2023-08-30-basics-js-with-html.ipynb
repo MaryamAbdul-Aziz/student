{
 "cells": [
  {
   "cell_type": "markdown",
   "metadata": {},
   "source": [
    "---\n",
    "title: Using Javascript with HTML DOM\n",
    "comments: true\n",
    "hide: True\n",
    "description: A Tech Talk on how javascript can interact with HTML DOM\n",
    "type: hacks\n",
    "permalink: /basics/dom\n",
    "---"
   ]
  },
  {
   "cell_type": "raw",
   "metadata": {},
   "source": [
    "{% include nav_basics.html %}\n"
   ]
  },
  {
   "cell_type": "markdown",
   "metadata": {},
   "source": [
    "# Hacks\n",
    "- Copy your HTML code from the HTML hacks. Write a Javascript snippet to switch the links of the two a tags when a button is pressed. Once they are switched, change the inner HTML of the top p tag to the word \"switched!\""
   ]
  },
  {
   "cell_type": "code",
   "execution_count": 50,
   "metadata": {},
   "outputs": [
    {
     "data": {
      "text/html": [
       "<div id=\"divContainerIDbutton\">\n",
       "<button id=\"buttonID\" onclick=\"switchLinks()\">Click here to change something...</button>\n",
       "<p id=\"para\">Below are some links to help you get started on your JS Basics Test journey!</p>\n",
       "</div>\n",
       "\n",
       "<br>\n",
       "<a id=\"link1\" href=\"https://www.wikihow.com/Change-the-Button-Color-in-HTML\">WikiHow To Change Button Color in HTML</a><br>\n",
       "<a id=\"link2\" href=\"https://stackoverflow.com/questions/12471132/how-to-set-text-color-in-submit-button\">StackOverflow Button Text Color Change</a><br>\n",
       "\n",
       "<script>\n",
       "var link1 = document.getElementById(\"link1\")\n",
       "var link2 = document.getElementById(\"link2\")\n",
       "var para = document.getElementById(\"para\")\n",
       "  \n",
       "var og1 = link1.href\n",
       "var og2 = link2.href\n",
       "\n",
       "function switchLinks(){\n",
       "  link1.href = og2\n",
       "  link2.href = og1\n",
       "  \n",
       "  para.innerHTML = \"Switched!\";\n",
       "  \n",
       "}\n",
       "</script>\n"
      ],
      "text/plain": [
       "<IPython.core.display.HTML object>"
      ]
     },
     "metadata": {},
     "output_type": "display_data"
    }
   ],
   "source": [
    "%%html\n",
    "<div id=\"divContainerIDbutton\">\n",
    "<button id=\"buttonID\" onclick=\"switchLinks()\">Click here to change something...</button>\n",
    "<p id=\"para\">Below are some links to help you get started on your JS Basics Test journey!</p>\n",
    "</div>\n",
    "\n",
    "<br>\n",
    "<a id=\"link1\" href=\"https://www.wikihow.com/Change-the-Button-Color-in-HTML\">WikiHow To Change Button Color in HTML</a><br>\n",
    "<a id=\"link2\" href=\"https://stackoverflow.com/questions/12471132/how-to-set-text-color-in-submit-button\">StackOverflow Button Text Color Change</a><br>\n",
    "\n",
    "<script>\n",
    "var link1 = document.getElementById(\"link1\")\n",
    "var link2 = document.getElementById(\"link2\")\n",
    "var para = document.getElementById(\"para\")\n",
    "  \n",
    "var og1 = link1.href\n",
    "var og2 = link2.href\n",
    "\n",
    "function switchLinks(){\n",
    "  link1.href = og2\n",
    "  link2.href = og1\n",
    "  \n",
    "  para.innerHTML = \"Switched!\";\n",
    "  \n",
    "}\n",
    "</script>"
   ]
  },
  {
   "cell_type": "code",
   "execution_count": 51,
   "metadata": {},
   "outputs": [
    {
     "data": {
      "text/html": [
       "<!-- also switch the text of the links -->\n",
       "\n",
       "<div id=\"divContainerIDbutton\">\n",
       "<button id=\"buttonID\" onclick=\"switchLinks()\">Click here to change something</button>\n",
       "<br>\n",
       "<br>\n",
       "<p id=\"para\">Below are some links to help you get started on your JS Basics Test journey!</p>\n",
       "</div>\n",
       "\n",
       "<a id=\"link1\" href=\"https://www.wikihow.com/Change-the-Button-Color-in-HTML\">WikiHow To Change Button Color in HTML</a><br>\n",
       "<a id=\"link2\" href=\"https://stackoverflow.com/questions/12471132/how-to-set-text-color-in-submit-button\">StackOverflow Button Text Color Change</a><br>\n",
       "\n",
       "<script>\n",
       "var link1 = document.getElementById(\"link1\")\n",
       "var link2 = document.getElementById(\"link2\")\n",
       "var para = document.getElementById(\"para\")\n",
       "  \n",
       "var og1 = link1.href\n",
       "var og2 = link2.href\n",
       "var text1 = link1.innerText\n",
       "var text2 = link2.innerText\n",
       "  \n",
       "function switchLinks(){\n",
       "  link1.href = og2\n",
       "  link2.href = og1\n",
       "    \n",
       "  buttonID.innerHTML = \"Working...\";\n",
       "  setTimeout(function() {\n",
       "    link1.innerText = text2;\n",
       "    link2.innerText = text1;\n",
       "    para.innerHTML = \"Switched!\";\n",
       "    buttonID.innerHTML = \"Click here to change something\"\n",
       "    \n",
       "  }, 500);\n",
       "  \n",
       "}\n",
       "</script>\n"
      ],
      "text/plain": [
       "<IPython.core.display.HTML object>"
      ]
     },
     "metadata": {},
     "output_type": "display_data"
    }
   ],
   "source": [
    "%%html\n",
    "<!-- also switch the text of the links -->\n",
    "\n",
    "<div id=\"divContainerIDbutton\">\n",
    "<button id=\"buttonID\" onclick=\"switchLinks()\">Click here to change something</button>\n",
    "<br>\n",
    "<br>\n",
    "<p id=\"para\">Below are some links to help you get started on your JS Basics Test journey!</p>\n",
    "</div>\n",
    "\n",
    "<a id=\"link1\" href=\"https://www.wikihow.com/Change-the-Button-Color-in-HTML\">WikiHow To Change Button Color in HTML</a><br>\n",
    "<a id=\"link2\" href=\"https://stackoverflow.com/questions/12471132/how-to-set-text-color-in-submit-button\">StackOverflow Button Text Color Change</a><br>\n",
    "\n",
    "<script>\n",
    "var link1 = document.getElementById(\"link1\")\n",
    "var link2 = document.getElementById(\"link2\")\n",
    "var para = document.getElementById(\"para\")\n",
    "  \n",
    "var og1 = link1.href\n",
    "var og2 = link2.href\n",
    "var text1 = link1.innerText\n",
    "var text2 = link2.innerText\n",
    "  \n",
    "function switchLinks(){\n",
    "  link1.href = og2\n",
    "  link2.href = og1\n",
    "    \n",
    "  buttonID.innerHTML = \"Working...\";\n",
    "  setTimeout(function() {\n",
    "    link1.innerText = text2;\n",
    "    link2.innerText = text1;\n",
    "    para.innerHTML = \"Switched!\";\n",
    "    buttonID.innerHTML = \"Click here to change something\"\n",
    "    \n",
    "  }, 500);\n",
    "  \n",
    "}\n",
    "</script>"
   ]
  }
 ],
 "metadata": {
  "kernelspec": {
   "display_name": "Python 3 (ipykernel)",
   "language": "python",
   "name": "python3"
  },
  "language_info": {
   "codemirror_mode": {
    "name": "ipython",
    "version": 3
   },
   "file_extension": ".py",
   "mimetype": "text/x-python",
   "name": "python",
   "nbconvert_exporter": "python",
   "pygments_lexer": "ipython3",
   "version": "3.11.5"
  }
 },
 "nbformat": 4,
 "nbformat_minor": 4
}
