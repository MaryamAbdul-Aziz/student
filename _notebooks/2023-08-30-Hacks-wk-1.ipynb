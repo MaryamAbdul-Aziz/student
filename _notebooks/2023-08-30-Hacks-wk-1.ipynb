{
 "cells": [
  {
   "cell_type": "markdown",
   "metadata": {},
   "source": [
    "---\n",
    "toc: true\n",
    "layout: post\n",
    "title: Hacks\n",
    "description: My hacks from this week (week 1)\n",
    "type: hacks\n",
    "courses: { compsci: {week: 1} }\n",
    "---"
   ]
  },
  {
   "cell_type": "code",
   "execution_count": 6,
   "metadata": {},
   "outputs": [
    {
     "name": "stdout",
     "output_type": "stream",
     "text": [
      "A equals B\n"
     ]
    }
   ],
   "source": [
    "a = 1\n",
    "b = 1\n",
    "if (a == b):\n",
    "    print(\"A equals B\")\n"
   ]
  },
  {
   "cell_type": "code",
   "execution_count": 12,
   "metadata": {},
   "outputs": [
    {
     "name": "stdout",
     "output_type": "stream",
     "text": [
      "Adding all numbers 1-100...\n",
      "= 5050\n",
      "Sum complete.\n"
     ]
    }
   ],
   "source": [
    "# Summing all numbers from 1 to 100\n",
    "x = list(range(1,101)) # This takes all numbers 1-100\n",
    "print('Adding all numbers 1-100...')\n",
    "print('=',sum(x))  \n",
    "print('Sum complete.')"
   ]
  },
  {
   "cell_type": "code",
   "execution_count": 48,
   "metadata": {},
   "outputs": [
    {
     "name": "stdout",
     "output_type": "stream",
     "text": [
      "Add all numbers between any two given values\n",
      "The sum of the numbers between these two values = 4950\n"
     ]
    }
   ],
   "source": [
    "# Summing all numbers between given user input\n",
    "print('Add all numbers between any two given values')\n",
    "x = int(input('What is the smaller number?\\n'))\n",
    "y = int(input('What is the larger number?\\n'))\n",
    "\n",
    "\n",
    "z = list(range(x,y+1)) # creates a list from which to add all numbers\n",
    "print('The sum of the numbers between these two values =',sum(z))  "
   ]
  }
 ],
 "metadata": {
  "kernelspec": {
   "display_name": "Python 3",
   "language": "python",
   "name": "python3"
  },
  "language_info": {
   "codemirror_mode": {
    "name": "ipython",
    "version": 3
   },
   "file_extension": ".py",
   "mimetype": "text/x-python",
   "name": "python",
   "nbconvert_exporter": "python",
   "pygments_lexer": "ipython3",
   "version": "3.11.4"
  },
  "orig_nbformat": 4
 },
 "nbformat": 4,
 "nbformat_minor": 2
}
