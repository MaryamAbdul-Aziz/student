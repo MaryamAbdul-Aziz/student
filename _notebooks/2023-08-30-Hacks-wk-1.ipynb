{
 "cells": [
  {
   "cell_type": "markdown",
   "metadata": {},
   "source": [
    "---\n",
    "toc: true\n",
    "title: Hacks\n",
    "layout: post\n",
    "description: My hacks from this week (week 1)\n",
    "courses: { compsci: {week: 1} }\n",
    "type: hacks\n",
    "---"
   ]
  },
  {
   "cell_type": "code",
   "execution_count": 94,
   "metadata": {},
   "outputs": [
    {
     "name": "stdout",
     "output_type": "stream",
     "text": [
      "A equals B\n"
     ]
    }
   ],
   "source": [
    "# prints a statement based on a simple if function\n",
    "a = 1\n",
    "b = 1\n",
    "if (a == b):\n",
    "    print(\"A equals B\")\n"
   ]
  },
  {
   "cell_type": "code",
   "execution_count": 95,
   "metadata": {},
   "outputs": [
    {
     "name": "stdout",
     "output_type": "stream",
     "text": [
      "Adding all numbers 1-100...\n",
      "= 5050\n",
      "Sum complete.\n"
     ]
    }
   ],
   "source": [
    "# sums all numbers from 1 to 100\n",
    "x = list(range(1,101)) # This takes all numbers 1-100\n",
    "print('Adding all numbers 1-100...')\n",
    "print('=',sum(x))  \n",
    "print('Sum complete.')"
   ]
  },
  {
   "cell_type": "code",
   "execution_count": 96,
   "metadata": {},
   "outputs": [
    {
     "name": "stdout",
     "output_type": "stream",
     "text": [
      "Add all numbers between any two given values\n",
      "The sum of the numbers between these two values = 45\n"
     ]
    }
   ],
   "source": [
    "# sums all numbers between given user input\n",
    "print('Add all numbers between any two given values')\n",
    "x = int(input('What is the smaller number?\\n'))\n",
    "y = int(input('What is the larger number?\\n'))\n",
    "\n",
    "z = list(range(x,y+1)) # creates a list from which to add all numbers\n",
    "print('The sum of the numbers between these two values =',sum(z))  "
   ]
  },
  {
   "cell_type": "code",
   "execution_count": 98,
   "metadata": {},
   "outputs": [
    {
     "name": "stdout",
     "output_type": "stream",
     "text": [
      "Add all numbers between any two given values\n",
      "The sum of the numbers between these two values = -22\n"
     ]
    }
   ],
   "source": [
    "# sums all numbers between given user input including numbers in descending value\n",
    "# however those in descending value will output the opposite (negative) of the true sum \n",
    "\n",
    "print('Add all numbers between any two given values')\n",
    "x = int(input('What is your first number?\\n'))\n",
    "y = int(input('What is your second number?\\n'))\n",
    "\n",
    "\n",
    "if x > y: # to fix any error in user output causing\n",
    "    x = x*-1\n",
    "    y = y*-1\n",
    "\n",
    "z = list(range(x, y+1)) # adding 1 to y to get range of numbers including y\n",
    "\n",
    "print('The sum of the numbers between these two values =',sum(z))"
   ]
  },
  {
   "cell_type": "code",
   "execution_count": 99,
   "metadata": {},
   "outputs": [
    {
     "name": "stdout",
     "output_type": "stream",
     "text": [
      "1\n",
      "2\n",
      "3\n",
      "4\n",
      "5\n",
      "6\n",
      "7\n",
      "8\n",
      "9\n",
      "10\n",
      "11\n",
      "12\n",
      "13\n",
      "14\n",
      "15\n",
      "16\n",
      "17\n",
      "18\n",
      "19\n",
      "20\n",
      "21\n",
      "22\n",
      "23\n",
      "24\n",
      "25\n",
      "26\n",
      "27\n",
      "28\n",
      "29\n",
      "30\n",
      "31\n",
      "32\n",
      "33\n",
      "34\n",
      "35\n",
      "36\n",
      "37\n",
      "38\n",
      "39\n",
      "40\n",
      "41\n",
      "42\n",
      "43\n",
      "44\n",
      "45\n",
      "46\n",
      "47\n",
      "48\n",
      "49\n",
      "50\n",
      "51\n",
      "52\n",
      "53\n",
      "54\n",
      "55\n",
      "56\n",
      "57\n",
      "58\n",
      "59\n",
      "60\n",
      "61\n",
      "62\n",
      "63\n",
      "64\n",
      "65\n",
      "66\n",
      "67\n",
      "68\n",
      "69\n",
      "70\n",
      "71\n",
      "72\n",
      "73\n",
      "74\n",
      "75\n",
      "76\n",
      "77\n",
      "78\n",
      "79\n",
      "80\n",
      "81\n",
      "82\n",
      "83\n",
      "84\n",
      "85\n",
      "86\n",
      "87\n",
      "88\n",
      "89\n",
      "90\n",
      "91\n",
      "92\n",
      "93\n",
      "94\n",
      "95\n",
      "96\n",
      "97\n",
      "98\n",
      "99\n",
      "100\n"
     ]
    }
   ],
   "source": [
    "# lists all numbers between two given values\n",
    "w = int(input('What is your first number?\\n'))\n",
    "y = int(input('What is your second number?\\n'))\n",
    "\n",
    "if w > y:\n",
    "    print('Please input numbers in ascending order')\n",
    "    \n",
    "elif w == y:\n",
    "    print('No sum! These are the same number')\n",
    "    \n",
    "while w < y:\n",
    "    print (w)\n",
    "    w += 1\n",
    "    if w > y:\n",
    "        break\n",
    "    elif w == y:\n",
    "        print (y)\n",
    "        break"
   ]
  }
 ],
 "metadata": {
  "kernelspec": {
   "display_name": "Python 3",
   "language": "python",
   "name": "python3"
  },
  "language_info": {
   "codemirror_mode": {
    "name": "ipython",
    "version": 3
   },
   "file_extension": ".py",
   "mimetype": "text/x-python",
   "name": "python",
   "nbconvert_exporter": "python",
   "pygments_lexer": "ipython3",
   "version": "3.11.4"
  },
  "orig_nbformat": 4
 },
 "nbformat": 4,
 "nbformat_minor": 2
}
