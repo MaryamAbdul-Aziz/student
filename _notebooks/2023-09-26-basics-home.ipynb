{
 "cells": [
  {
   "cell_type": "markdown",
   "metadata": {},
   "source": [
    "---\n",
    "layout: post\n",
    "title: Web Programming Basics&#58; Test\n",
    "description: An introduction to key topics in Web Programming\n",
    "courses: { compsci: {week: 6}}\n",
    "type: hacks\n",
    "permalink: /basics/home\n",
    "---"
   ]
  },
  {
   "cell_type": "raw",
   "metadata": {},
   "source": [
    "{% include nav_basics.html %}\n"
   ]
  },
  {
   "cell_type": "markdown",
   "metadata": {},
   "source": [
    "\n",
    "# Welcome to my JS Basics Test\n",
    "\n",
    "### Navigate above to find all the different aspects of my test, complete with Hacks instructions and my working code.\n"
   ]
  }
 ],
 "metadata": {
  "kernelspec": {
   "display_name": "Python 3",
   "language": "python",
   "name": "python3"
  },
  "language_info": {
   "codemirror_mode": {
    "name": "ipython",
    "version": 3
   },
   "file_extension": ".py",
   "mimetype": "text/x-python",
   "name": "python",
   "nbconvert_exporter": "python",
   "pygments_lexer": "ipython3",
   "version": "3.11.5"
  },
  "orig_nbformat": 4
 },
 "nbformat": 4,
 "nbformat_minor": 2
}
