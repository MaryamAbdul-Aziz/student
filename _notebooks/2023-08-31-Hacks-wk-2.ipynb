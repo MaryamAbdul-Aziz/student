{
 "cells": [
  {
   "cell_type": "markdown",
   "metadata": {},
   "source": [
    "---\n",
    "toc: true\n",
    "title: Linux Shell and Bash Notes\n",
    "layout: post\n",
    "description: My notes and hacks from this week (week 2)\n",
    "type: hacks\n",
    "courses: { compsci: {week: 2} }\n",
    "---"
   ]
  },
  {
   "cell_type": "markdown",
   "metadata": {},
   "source": [
    "# Linux Shell and Bash: Hacks\n",
    "\n",
    "What I learned about using Linux Shell and Bash to install tools and set up a repository on my local machine.\n",
    "\n",
    "*Note: I am not including 'echo' commands present in teacher copy because I commment out that information instead*\n"
   ]
  },
  {
   "cell_type": "markdown",
   "metadata": {},
   "source": [
    "\n",
    "## Project Setup\n",
    "\n",
    "### Pull code\n",
    "Pull code to your local machine using an automated process to speed things up, including some conditional logic ensuring that things only download if they do not already exist.\n",
    "\n",
    "Commonly Used Commands:\n",
    "> cd: change directory"
   ]
  },
  {
   "cell_type": "code",
   "execution_count": null,
   "metadata": {
    "vscode": {
     "languageId": "shellscript"
    }
   },
   "outputs": [],
   "source": [
    "%%script bash # used to begin every bash script\n",
    "\n",
    "# extract saved variables from a preexisting script to save time\n",
    "source /tmp/variables.sh\n",
    "\n",
    "# begin in home directory\n",
    "cd ~\n",
    "\n",
    "# use a conditional block to create a new project directory\n",
    "# if directory does not exist:\n",
    "if [ ! -d $project_dir ] # ! means 'does not'\n",
    "# then make a directory\n",
    "then\n",
    "    mkdir -p $project_dir\n",
    "fi\n",
    "\n",
    "# a second block that runs on the same conditions but has a separate function\n",
    "if [ ! -d $project ]\n",
    "then\n",
    "    cd $project_dir\n",
    "    git clone $project_repo # clones the project to the home directory!\n",
    "    cd ~\n",
    "fi"
   ]
  },
  {
   "cell_type": "markdown",
   "metadata": {},
   "source": [
    "### View all files in any given GitHub project\n",
    "\n",
    "Print a working directory of a project with a simple script\n",
    "\n",
    "Commonly Used Commands:\n",
    "> ls: list\n",
    "\n",
    "> pwd: print working directory\n",
    "\n",
    "> cd $project: move inside a given project's directory"
   ]
  },
  {
   "cell_type": "code",
   "execution_count": null,
   "metadata": {
    "vscode": {
     "languageId": "shellscript"
    }
   },
   "outputs": [],
   "source": [
    "%%script bash\n",
    "\n",
    "source /tmp/variables.sh\n",
    "\n",
    "cd $project # changes directory to given project name\n",
    "pwd\n",
    "\n",
    "ls # lists all files"
   ]
  },
  {
   "cell_type": "markdown",
   "metadata": {},
   "source": [
    "## Look at list of hidden and long attributes\n",
    "\n",
    "Some files will be hidden from lists because they contain content that the average user will not engage with, like configuration or settings. Using bash scripts, we can view those files and their attributes\n",
    "\n",
    "Commonly Used Commands:\n",
    "> ls -a: lists all hidden files\n",
    "\n",
    "> ls -l: lists files with long format"
   ]
  },
  {
   "cell_type": "code",
   "execution_count": null,
   "metadata": {
    "vscode": {
     "languageId": "shellscript"
    }
   },
   "outputs": [],
   "source": [
    "# List hidden files in long format:\n",
    "\n",
    "%%script bash\n",
    "\n",
    "source /tmp/variables.sh\n",
    "\n",
    "# notice most of these intermediate steps are the same. the machine just needs to get to the directory again and again to perform these simple tasks\n",
    "cd $project\n",
    "pwd\n",
    "\n",
    "# lists all hidden files in long format\n",
    "ls -al # notice how two commands were used together"
   ]
  },
  {
   "cell_type": "code",
   "execution_count": null,
   "metadata": {
    "vscode": {
     "languageId": "shellscript"
    }
   },
   "outputs": [],
   "source": [
    "# List files inside of a given folder in a  project\n",
    "\n",
    "%%script bash\n",
    "\n",
    "source /tmp/variables.sh\n",
    "\n",
    "# looks at _posts inside project\n",
    "export posts=$project/_posts # 'posts' can be replaced with any folder within the project\n",
    "cd $posts # 'posts' would be interchangable here as well\n",
    "pwd\n",
    "\n",
    "# lists files in long format\n",
    "ls -l"
   ]
  },
  {
   "cell_type": "markdown",
   "metadata": {},
   "source": [
    "### Read data from a Markdown file\n",
    "\n",
    "Commonly Used Commands:\n",
    "> cat: reads data from a file and gives its contents as its output"
   ]
  },
  {
   "cell_type": "code",
   "execution_count": null,
   "metadata": {
    "vscode": {
     "languageId": "shellscript"
    }
   },
   "outputs": [],
   "source": [
    "%%script bash\n",
    "\n",
    "source /tmp/variables.sh\n",
    "\n",
    "cd $project\n",
    "\n",
    "# show contents of file\n",
    "cat README.md  # 'README.md' can be exchanged for any file name"
   ]
  },
  {
   "cell_type": "markdown",
   "metadata": {},
   "source": [
    "### ~~Env~~, Git, and Github\n",
    "*Note: I don't fully understand 'env' quite yet, but after reading its output, I have some understanding of what it's meant for*\n",
    "\n",
    "Commonly Used Commands:\n",
    "> env: shows settings for shell\n",
    "\n",
    "> git clone: sets up directory of files on local machine\n",
    "\n",
    "> .git: hidden directory that establishes the relationship between the machine and GitHub's git server"
   ]
  },
  {
   "cell_type": "code",
   "execution_count": null,
   "metadata": {
    "vscode": {
     "languageId": "shellscript"
    }
   },
   "outputs": [],
   "source": [
    "%%script bash\n",
    "\n",
    "# While I do not fully understand what 'env' accomplishes, I recognize some of the information that it outputs\n",
    "env"
   ]
  },
  {
   "cell_type": "code",
   "execution_count": null,
   "metadata": {
    "vscode": {
     "languageId": "shellscript"
    }
   },
   "outputs": [],
   "source": [
    "%%script bash\n",
    "\n",
    "source /tmp/variables.sh\n",
    "\n",
    "cd $project\n",
    "\n",
    "# navigate to hidden directory and print list of files in long form\n",
    "cd .git\n",
    "ls -l\n",
    "\n",
    "# unsure of the function of the next line of code, so I've commented it out\n",
    "# cat config\n"
   ]
  }
 ],
 "metadata": {
  "language_info": {
   "name": "python"
  },
  "orig_nbformat": 4
 },
 "nbformat": 4,
 "nbformat_minor": 2
}
