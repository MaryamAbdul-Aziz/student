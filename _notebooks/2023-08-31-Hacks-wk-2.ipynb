{
 "cells": [
  {
   "cell_type": "markdown",
   "metadata": {},
   "source": [
    "---\n",
    "toc: true\n",
    "title: Linux Shell and Bash Notes\n",
    "layout: post\n",
    "description: My notes and hacks from this week (week 2)\n",
    "type: hacks\n",
    "courses: { compsci: {week: 2} }\n",
    "---"
   ]
  },
  {
   "cell_type": "markdown",
   "metadata": {},
   "source": [
    "# Linux Shell and Bash: Hacks\n",
    "\n",
    "What I learned about using Linux Shell and Bash to install tools and set up a repository on my local machine.\n",
    "\n",
    "*Note: I am not including 'echo' commands present in teacher copy because I commment out that information instead*\n"
   ]
  },
  {
   "cell_type": "markdown",
   "metadata": {},
   "source": [
    "\n",
    "## Project Setup\n",
    "\n",
    "### Pull code\n",
    "Pull code to your local machine using an automated process to speed things up, including some conditional logic ensuring that things only download if they do not already exist.\n",
    "\n",
    "Commonly Used Commands:\n",
    "> cd: change directory"
   ]
  },
  {
   "cell_type": "code",
   "execution_count": 1,
   "metadata": {
    "vscode": {
     "languageId": "shellscript"
    }
   },
   "outputs": [
    {
     "name": "stderr",
     "output_type": "stream",
     "text": [
      "bash: #: No such file or directory\n"
     ]
    },
    {
     "ename": "CalledProcessError",
     "evalue": "Command 'b\"\\n# extract saved variables from a preexisting script to save time\\nsource /tmp/variables.sh\\n\\n# begin in home directory\\ncd ~\\n\\n# use a conditional block to create a new project directory\\n# if directory does not exist:\\nif [ ! -d $project_dir ] # ! means 'does not'\\n# then make a directory\\nthen\\n    mkdir -p $project_dir\\nfi\\n\\n# a second block that runs on the same conditions but has a separate function\\nif [ ! -d $project ]\\nthen\\n    cd $project_dir\\n    git clone $project_repo # clones the project to the home directory!\\n    cd ~\\nfi\\n\"' returned non-zero exit status 127.",
     "output_type": "error",
     "traceback": [
      "\u001b[0;31m---------------------------------------------------------------------------\u001b[0m",
      "\u001b[0;31mCalledProcessError\u001b[0m                        Traceback (most recent call last)",
      "Cell \u001b[0;32mIn[1], line 1\u001b[0m\n\u001b[0;32m----> 1\u001b[0m get_ipython()\u001b[39m.\u001b[39;49mrun_cell_magic(\u001b[39m'\u001b[39;49m\u001b[39mscript\u001b[39;49m\u001b[39m'\u001b[39;49m, \u001b[39m'\u001b[39;49m\u001b[39mbash # used to begin every bash script\u001b[39;49m\u001b[39m'\u001b[39;49m, \u001b[39m\"\u001b[39;49m\u001b[39m\\n\u001b[39;49;00m\u001b[39m# extract saved variables from a preexisting script to save time\u001b[39;49m\u001b[39m\\n\u001b[39;49;00m\u001b[39msource /tmp/variables.sh\u001b[39;49m\u001b[39m\\n\u001b[39;49;00m\u001b[39m\\n\u001b[39;49;00m\u001b[39m# begin in home directory\u001b[39;49m\u001b[39m\\n\u001b[39;49;00m\u001b[39mcd ~\u001b[39;49m\u001b[39m\\n\u001b[39;49;00m\u001b[39m\\n\u001b[39;49;00m\u001b[39m# use a conditional block to create a new project directory\u001b[39;49m\u001b[39m\\n\u001b[39;49;00m\u001b[39m# if directory does not exist:\u001b[39;49m\u001b[39m\\n\u001b[39;49;00m\u001b[39mif [ ! -d $project_dir ] # ! means \u001b[39;49m\u001b[39m'\u001b[39;49m\u001b[39mdoes not\u001b[39;49m\u001b[39m'\u001b[39;49m\u001b[39m\\n\u001b[39;49;00m\u001b[39m# then make a directory\u001b[39;49m\u001b[39m\\n\u001b[39;49;00m\u001b[39mthen\u001b[39;49m\u001b[39m\\n\u001b[39;49;00m\u001b[39m    mkdir -p $project_dir\u001b[39;49m\u001b[39m\\n\u001b[39;49;00m\u001b[39mfi\u001b[39;49m\u001b[39m\\n\u001b[39;49;00m\u001b[39m\\n\u001b[39;49;00m\u001b[39m# a second block that runs on the same conditions but has a separate function\u001b[39;49m\u001b[39m\\n\u001b[39;49;00m\u001b[39mif [ ! -d $project ]\u001b[39;49m\u001b[39m\\n\u001b[39;49;00m\u001b[39mthen\u001b[39;49m\u001b[39m\\n\u001b[39;49;00m\u001b[39m    cd $project_dir\u001b[39;49m\u001b[39m\\n\u001b[39;49;00m\u001b[39m    git clone $project_repo # clones the project to the home directory!\u001b[39;49m\u001b[39m\\n\u001b[39;49;00m\u001b[39m    cd ~\u001b[39;49m\u001b[39m\\n\u001b[39;49;00m\u001b[39mfi\u001b[39;49m\u001b[39m\\n\u001b[39;49;00m\u001b[39m\"\u001b[39;49m)\n",
      "File \u001b[0;32m~/Library/Python/3.11/lib/python/site-packages/IPython/core/interactiveshell.py:2478\u001b[0m, in \u001b[0;36mInteractiveShell.run_cell_magic\u001b[0;34m(self, magic_name, line, cell)\u001b[0m\n\u001b[1;32m   2476\u001b[0m \u001b[39mwith\u001b[39;00m \u001b[39mself\u001b[39m\u001b[39m.\u001b[39mbuiltin_trap:\n\u001b[1;32m   2477\u001b[0m     args \u001b[39m=\u001b[39m (magic_arg_s, cell)\n\u001b[0;32m-> 2478\u001b[0m     result \u001b[39m=\u001b[39m fn(\u001b[39m*\u001b[39;49margs, \u001b[39m*\u001b[39;49m\u001b[39m*\u001b[39;49mkwargs)\n\u001b[1;32m   2480\u001b[0m \u001b[39m# The code below prevents the output from being displayed\u001b[39;00m\n\u001b[1;32m   2481\u001b[0m \u001b[39m# when using magics with decodator @output_can_be_silenced\u001b[39;00m\n\u001b[1;32m   2482\u001b[0m \u001b[39m# when the last Python token in the expression is a ';'.\u001b[39;00m\n\u001b[1;32m   2483\u001b[0m \u001b[39mif\u001b[39;00m \u001b[39mgetattr\u001b[39m(fn, magic\u001b[39m.\u001b[39mMAGIC_OUTPUT_CAN_BE_SILENCED, \u001b[39mFalse\u001b[39;00m):\n",
      "File \u001b[0;32m~/Library/Python/3.11/lib/python/site-packages/IPython/core/magics/script.py:314\u001b[0m, in \u001b[0;36mScriptMagics.shebang\u001b[0;34m(self, line, cell)\u001b[0m\n\u001b[1;32m    309\u001b[0m \u001b[39mif\u001b[39;00m args\u001b[39m.\u001b[39mraise_error \u001b[39mand\u001b[39;00m p\u001b[39m.\u001b[39mreturncode \u001b[39m!=\u001b[39m \u001b[39m0\u001b[39m:\n\u001b[1;32m    310\u001b[0m     \u001b[39m# If we get here and p.returncode is still None, we must have\u001b[39;00m\n\u001b[1;32m    311\u001b[0m     \u001b[39m# killed it but not yet seen its return code. We don't wait for it,\u001b[39;00m\n\u001b[1;32m    312\u001b[0m     \u001b[39m# in case it's stuck in uninterruptible sleep. -9 = SIGKILL\u001b[39;00m\n\u001b[1;32m    313\u001b[0m     rc \u001b[39m=\u001b[39m p\u001b[39m.\u001b[39mreturncode \u001b[39mor\u001b[39;00m \u001b[39m-\u001b[39m\u001b[39m9\u001b[39m\n\u001b[0;32m--> 314\u001b[0m     \u001b[39mraise\u001b[39;00m CalledProcessError(rc, cell)\n",
      "\u001b[0;31mCalledProcessError\u001b[0m: Command 'b\"\\n# extract saved variables from a preexisting script to save time\\nsource /tmp/variables.sh\\n\\n# begin in home directory\\ncd ~\\n\\n# use a conditional block to create a new project directory\\n# if directory does not exist:\\nif [ ! -d $project_dir ] # ! means 'does not'\\n# then make a directory\\nthen\\n    mkdir -p $project_dir\\nfi\\n\\n# a second block that runs on the same conditions but has a separate function\\nif [ ! -d $project ]\\nthen\\n    cd $project_dir\\n    git clone $project_repo # clones the project to the home directory!\\n    cd ~\\nfi\\n\"' returned non-zero exit status 127."
     ]
    }
   ],
   "source": [
    "%%script bash # used to begin every bash script\n",
    "\n",
    "# extract saved variables from a preexisting script to save time\n",
    "source /tmp/variables.sh\n",
    "\n",
    "# begin in home directory\n",
    "cd ~\n",
    "\n",
    "# use a conditional block to create a new project directory\n",
    "# if directory does not exist:\n",
    "if [ ! -d $project_dir ] # ! means 'does not'\n",
    "# then make a directory\n",
    "then\n",
    "    mkdir -p $project_dir\n",
    "fi\n",
    "\n",
    "# a second block that runs on the same conditions but has a separate function\n",
    "if [ ! -d $project ]\n",
    "then\n",
    "    cd $project_dir\n",
    "    git clone $project_repo # clones the project to the home directory!\n",
    "    cd ~\n",
    "fi"
   ]
  },
  {
   "cell_type": "markdown",
   "metadata": {},
   "source": [
    "### View all files in any given GitHub project\n",
    "\n",
    "Print a working directory of a project with a simple script\n",
    "\n",
    "Commonly Used Commands:\n",
    "> ls: list\n",
    "\n",
    "> pwd: print working directory\n",
    "\n",
    "> cd $project: move inside a given project's directory"
   ]
  },
  {
   "cell_type": "code",
   "execution_count": null,
   "metadata": {
    "vscode": {
     "languageId": "shellscript"
    }
   },
   "outputs": [],
   "source": [
    "%%script bash\n",
    "\n",
    "source /tmp/variables.sh\n",
    "\n",
    "cd $project # changes directory to given project name\n",
    "pwd\n",
    "\n",
    "ls # lists all files"
   ]
  },
  {
   "cell_type": "markdown",
   "metadata": {},
   "source": [
    "## Look at list of hidden and long attributes\n",
    "\n",
    "Some files will be hidden from lists because they contain content that the average user will not engage with, like configuration or settings. Using bash scripts, we can view those files and their attributes\n",
    "\n",
    "Commonly Used Commands:\n",
    "> ls -a: lists all hidden files\n",
    "\n",
    "> ls -l: lists files with long format"
   ]
  },
  {
   "cell_type": "code",
   "execution_count": null,
   "metadata": {
    "vscode": {
     "languageId": "shellscript"
    }
   },
   "outputs": [],
   "source": [
    "# List hidden files in long format:\n",
    "\n",
    "%%script bash\n",
    "\n",
    "source /tmp/variables.sh\n",
    "\n",
    "# notice most of these intermediate steps are the same. the machine just needs to get to the directory again and again to perform these simple tasks\n",
    "cd $project\n",
    "pwd\n",
    "\n",
    "# lists all hidden files in long format\n",
    "ls -al # notice how two commands were used together"
   ]
  },
  {
   "cell_type": "code",
   "execution_count": null,
   "metadata": {
    "vscode": {
     "languageId": "shellscript"
    }
   },
   "outputs": [],
   "source": [
    "# List files inside of a given folder in a  project\n",
    "\n",
    "%%script bash\n",
    "\n",
    "source /tmp/variables.sh\n",
    "\n",
    "# looks at _posts inside project\n",
    "export posts=$project/_posts # 'posts' can be replaced with any folder within the project\n",
    "cd $posts # 'posts' would be interchangable here as well\n",
    "pwd\n",
    "\n",
    "# lists files in long format\n",
    "ls -l"
   ]
  },
  {
   "cell_type": "markdown",
   "metadata": {},
   "source": [
    "### Read data from a Markdown file\n",
    "\n",
    "Commonly Used Commands:\n",
    "> cat: reads data from a file and gives its contents as its output"
   ]
  },
  {
   "cell_type": "code",
   "execution_count": null,
   "metadata": {
    "vscode": {
     "languageId": "shellscript"
    }
   },
   "outputs": [],
   "source": [
    "%%script bash\n",
    "\n",
    "source /tmp/variables.sh\n",
    "\n",
    "cd $project\n",
    "\n",
    "# show contents of file\n",
    "cat README.md  # 'README.md' can be exchanged for any file name"
   ]
  },
  {
   "cell_type": "markdown",
   "metadata": {},
   "source": [
    "### ~~Env~~, Git, and Github\n",
    "*Note: I don't fully understand 'env' quite yet, but after reading its output, I have some understanding of what it's meant for*\n",
    "\n",
    "Commonly Used Commands:\n",
    "> env: shows settings for shell\n",
    "\n",
    "> git clone: sets up directory of files on local machine\n",
    "\n",
    "> .git: hidden directory that establishes the relationship between the machine and GitHub's git server"
   ]
  },
  {
   "cell_type": "code",
   "execution_count": null,
   "metadata": {
    "vscode": {
     "languageId": "shellscript"
    }
   },
   "outputs": [],
   "source": [
    "%%script bash\n",
    "\n",
    "# While I do not fully understand what 'env' accomplishes, I recognize some of the information that it outputs\n",
    "env"
   ]
  },
  {
   "cell_type": "code",
   "execution_count": null,
   "metadata": {
    "vscode": {
     "languageId": "shellscript"
    }
   },
   "outputs": [],
   "source": [
    "%%script bash\n",
    "\n",
    "source /tmp/variables.sh\n",
    "\n",
    "cd $project\n",
    "\n",
    "# navigate to hidden directory and print list of files in long form\n",
    "cd .git\n",
    "ls -l\n",
    "\n",
    "# unsure of the function of the next line of code, so I've commented it out\n",
    "# cat config\n"
   ]
  }
 ],
 "metadata": {
  "kernelspec": {
   "display_name": "Python 3",
   "language": "python",
   "name": "python3"
  },
  "language_info": {
   "codemirror_mode": {
    "name": "ipython",
    "version": 3
   },
   "file_extension": ".py",
   "mimetype": "text/x-python",
   "name": "python",
   "nbconvert_exporter": "python",
   "pygments_lexer": "ipython3",
   "version": "3.11.4"
  },
  "orig_nbformat": 4
 },
 "nbformat": 4,
 "nbformat_minor": 2
}
