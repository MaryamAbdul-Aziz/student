{
 "cells": [
  {
   "cell_type": "markdown",
   "metadata": {},
   "source": [
    "---\n",
    "toc: true\n",
    "title: Tools Setup \n",
    "layout: post\n",
    "description: My hacks from this week (week 0)\n",
    "type: hacks\n",
    "courses: { compsci: {week: 0} }\n",
    "---"
   ]
  },
  {
   "cell_type": "markdown",
   "metadata": {},
   "source": [
    "# VSCode, GitHub Pages Setup\n",
    "### Commonly used commands:\n",
    "- `cd`: change directory\n",
    "- `git`: calls GitHub\n",
    "- `brew`: cals Homebrew (package manager)"
   ]
  },
  {
   "cell_type": "markdown",
   "metadata": {},
   "source": [
    "\n",
    "### Version Control Notes:\n",
    "\n",
    ">  Where are the files from GitHub placed on your local machine? How do you navigate to those files?\n",
    "- Files are placed in user/vscode/student\n",
    "\n",
    "\n",
    "> Where are the files placed in the GitHub Cloud, how do you navigate to those files.\n",
    "- Open repository and navigate to files from homepage\n",
    "\n",
    "\n",
    "> How would you update your Template or Fork of student repository if teacher wanted you to pick up an update?\n",
    "- Create new clone and start over OR go to updated repository and click 'Fork'"
   ]
  }
 ],
 "metadata": {
  "language_info": {
   "name": "python"
  },
  "orig_nbformat": 4
 },
 "nbformat": 4,
 "nbformat_minor": 2
}
